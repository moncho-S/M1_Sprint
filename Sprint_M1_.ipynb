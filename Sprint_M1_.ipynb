{
 "cells": [
  {
   "cell_type": "markdown",
   "metadata": {},
   "source": [
    "# Alumno: Sebastian Hernandez"
   ]
  },
  {
   "cell_type": "markdown",
   "metadata": {},
   "source": [
    "### 1. Diseñe e implemente una clase Producto con los siguientes atributos: id, nombre, descripción, cantidad y precio. La clase debe incluir métodos para obtener y modificar la información de los productos. "
   ]
  },
  {
   "cell_type": "code",
   "execution_count": 11,
   "metadata": {},
   "outputs": [],
   "source": [
    "class Producto():\n",
    "    def __init__(self, id,nombre,descripcion,cantidad,precio):\n",
    "        self.id=id\n",
    "        self.nombre=nombre\n",
    "        self.descripcion=descripcion\n",
    "        self.cantidad=cantidad\n",
    "        self.precio=precio\n",
    "    def __str__(self):\n",
    "        \"\"\"sobrecarga del metodo str para imprimir la informacion del producto\"\"\"\n",
    "        return f\"\"\"informacion del producto {self.id}\n",
    "            Id: {self.id}\n",
    "            Nombre: {self.nombre}\n",
    "            Descripcion: {self.descripcion}\n",
    "            Cantidad: {self.cantidad}\n",
    "            Precio: {self.precio}\\n\\n\"\"\"\n",
    "    def setId(self,new):\n",
    "        self.id=new\n",
    "    def setNombre(self,new):\n",
    "        self.nombre=new\n",
    "    def setDescripcion(self,new):\n",
    "        self.descripcion=new\n",
    "    def setCantidad(self,new):\n",
    "        self.cantidad=new\n",
    "    def setPrecio(self,new):\n",
    "        self.precio=new\n",
    "\n",
    "# a=Producto(1,\"nombre1\",'descripcion1',1,100)\n",
    "# b=Producto(2,\"nombre2\",'descripcion2',2,200)\n",
    "# c=Producto(3,\"nombre3\",'descripcion3',3,300)\n",
    "# d=Producto(4,\"nombre4\",'descripcion4',4,400)\n",
    "# e=Producto(5,\"nombre5\",'descripcion5',5,500)\n",
    "# print(a,b,c,d,e)"
   ]
  },
  {
   "cell_type": "markdown",
   "metadata": {},
   "source": [
    "### 2. Diseñe e implemente una clase Inventario que utilice una estructura de datos (por ejemplo, un diccionario) para almacenar objetos de la clase Producto. La clase  Inventario debe incluir métodos para realizar las siguientes operaciones: \n",
    "\n",
    "• Agregar un producto al inventario \n",
    "\n",
    "• Eliminar un producto del inventario \n",
    "\n",
    "• Actualizar la información de un producto en el inventario \n",
    "\n",
    "• Buscar un producto en el inventario por su id \n",
    "\n",
    "• Listar todos los productos en el inventario, incluyendo información como la \n",
    "cantidad total de productos y el valor total del inventario "
   ]
  },
  {
   "cell_type": "code",
   "execution_count": 12,
   "metadata": {},
   "outputs": [],
   "source": [
    "class Inventario():\n",
    "    def __init__(self):\n",
    "        \"\"\"los productos se van a almacenar en una lista\"\"\"\n",
    "        self.inventario=[]\n",
    "\n",
    "    def addProducto(self,producto):\n",
    "        \"\"\"agregar un producto\"\"\"\n",
    "        self.inventario.append(producto)\n",
    "    def getProducto(self,id):\n",
    "        \"\"\"buscar un producto en el invetario por su id\"\"\"\n",
    "        for producto in self.inventario:\n",
    "            if producto.id==id:\n",
    "                return producto\n",
    "    def deleteProducto(self,producto):\n",
    "        \"\"\"eliminar un producto del inventario\"\"\"\n",
    "        try:\n",
    "            self.inventario.remove(producto)\n",
    "        except Exception as e:\n",
    "            print(e,'el producto no se encontro en el inventario')\n",
    "    def updateProducto(self,id,attr,value):\n",
    "        \"\"\"busca un producto del inventario mediante id y \n",
    "        actualiza el atributo 'nombre', 'descripcion', \n",
    "        'cantidad','precio' \"\"\"\n",
    "        flag=1\n",
    "        miProducto=self.getProducto(id)\n",
    "        if attr=='nombre':\n",
    "            miProducto.setNombre(value)\n",
    "        elif attr=='descripcion':\n",
    "            miProducto.setDescripcion(value)\n",
    "        elif attr=='cantidad':\n",
    "            miProducto.setCantidad(value)\n",
    "        elif attr=='precio':\n",
    "            miProducto.setPrecio(value)\n",
    "        else:\n",
    "            flag=0\n",
    "        if flag:\n",
    "            print(\"se actualizo el valor dado\")\n",
    "        else:\n",
    "            print(\"no se modifico el producto\")\n",
    "    \n",
    "    def getProductos(self):\n",
    "        if len(self.inventario)>0:\n",
    "            cantidadProductos=0\n",
    "            valorTotal=0\n",
    "            for producto in self.inventario:\n",
    "                cantidadProductos+=producto.cantidad\n",
    "                valorTotal+=producto.precio*producto.cantidad\n",
    "                print(producto)\n",
    "            print('cantidad de productos total:',cantidadProductos)\n",
    "            print('valor total:',valorTotal)\n",
    "        else:\n",
    "            print('no existen productos en el inventario')\n",
    "\n",
    "inv=Inventario()\n",
    "# inv.addProducto(a)\n",
    "# inv.addProducto(b)\n",
    "# inv.addProducto(c)\n",
    "# inv.addProducto(d)\n",
    "# inv.addProducto(e)"
   ]
  },
  {
   "cell_type": "markdown",
   "metadata": {},
   "source": [
    "### 3. Implemente una menú de usuario que permita a los usuarios interactuar con el sistema de gestión de inventario. El menú de incluir opciones para realizar las diferentes operaciones disponibles en la clase Inventario. Utilice un bucle while y estructuras de control de flujo if-elif-else para manejar las diferentes opciones del menú. (opcional) \n"
   ]
  },
  {
   "cell_type": "code",
   "execution_count": 13,
   "metadata": {},
   "outputs": [
    {
     "name": "stdout",
     "output_type": "stream",
     "text": [
      "saliendo del loop\n"
     ]
    }
   ],
   "source": [
    "while True:\n",
    "      try:\n",
    "\n",
    "            eleccion=input(\"\"\"ingrese 'agregar' para agregar un producto al inventario, \n",
    "                  'eliminar' para eliminar un producto, \n",
    "                  'actualizar' para actualizar un producto, \n",
    "                  'ver producto' para ver un producto por medio del id,\n",
    "                  'ver productos' para ver todos los productos\n",
    "                  \"\"\")\n",
    "            \n",
    "            if eleccion=='agregar':\n",
    "                  id=int(input('ingrese id del producto'))\n",
    "                  nombre=input('ingrese nombre del producto')\n",
    "                  descripcion=input('ingrese descripcion del producto')\n",
    "                  cantidad=int(input('ingrese cantidad del producto'))\n",
    "                  precio=int(input('ingrese precio del producto'))\n",
    "                  producto=Producto(id,nombre,descripcion,cantidad,precio)\n",
    "                  inv.addProducto(producto)\n",
    "\n",
    "            elif eleccion=='eliminar':\n",
    "                  id=int(input('ingrese id del producto que quiere eliminar'))\n",
    "                  producto=inv.getProducto(id)\n",
    "                  inv.deleteProducto(producto)\n",
    "\n",
    "            elif eleccion=='actualizar':\n",
    "                  id=int(input('ingrese id del producto a actualizar'))\n",
    "                  attr=input(\"indica el atributo a actualizar 'nombre', 'descripcion', 'cantidad','precio' \")\n",
    "                  value=input(\"indique el nuevo valor del atributo\")\n",
    "                  if attr=='cantidad' or attr=='precio':\n",
    "                        value=int(value)#para convertirlo en un numero\n",
    "                  inv.updateProducto(id,attr,value)\n",
    "\n",
    "            elif eleccion=='ver producto':\n",
    "                  id=int(input('ingrese id del producto a visualizar'))\n",
    "                  producto=inv.getProducto(id)\n",
    "                  print(producto)\n",
    "\n",
    "            elif eleccion=='ver productos':\n",
    "                  inv.getProductos()\n",
    "                  \n",
    "            elif eleccion=='0':\n",
    "                  print('saliendo del loop')\n",
    "                  break\n",
    "            else:\n",
    "                  print('la opcion ingresada no es valida')\n",
    "      except:\n",
    "            print('valor invalido, por favor ingrese su peticion de nuevo')\n"
   ]
  },
  {
   "cell_type": "markdown",
   "metadata": {},
   "source": [
    "### 4. Asegúrese de que el sistema maneje adecuadamente errores y excepciones, como entradas inválidas del usuario o intentos de actualizar o eliminar productos que no existen en el inventario. \n"
   ]
  },
  {
   "cell_type": "markdown",
   "metadata": {},
   "source": [
    "Listo."
   ]
  },
  {
   "cell_type": "markdown",
   "metadata": {},
   "source": [
    "### 5. Documente el código utilizando comentarios y docstrings apropiados para facilitar la comprensión y el mantenimiento del software. "
   ]
  },
  {
   "cell_type": "markdown",
   "metadata": {},
   "source": [
    "Listo."
   ]
  },
  {
   "cell_type": "markdown",
   "metadata": {},
   "source": [
    "### 6. Gestione el código a través de GitHub.\n"
   ]
  },
  {
   "cell_type": "markdown",
   "metadata": {},
   "source": [
    "Listo."
   ]
  }
 ],
 "metadata": {
  "kernelspec": {
   "display_name": "Python 3",
   "language": "python",
   "name": "python3"
  },
  "language_info": {
   "codemirror_mode": {
    "name": "ipython",
    "version": 3
   },
   "file_extension": ".py",
   "mimetype": "text/x-python",
   "name": "python",
   "nbconvert_exporter": "python",
   "pygments_lexer": "ipython3",
   "version": "3.11.6"
  }
 },
 "nbformat": 4,
 "nbformat_minor": 2
}
